{
  "nbformat": 4,
  "nbformat_minor": 0,
  "metadata": {
    "colab": {
      "provenance": [],
      "authorship_tag": "ABX9TyMx8XLnXUGBW9LqRRm17Twz",
      "include_colab_link": true
    },
    "kernelspec": {
      "name": "python3",
      "display_name": "Python 3"
    },
    "language_info": {
      "name": "python"
    }
  },
  "cells": [
    {
      "cell_type": "markdown",
      "metadata": {
        "id": "view-in-github",
        "colab_type": "text"
      },
      "source": [
        "<a href=\"https://colab.research.google.com/github/MariiaIvl/geo_python_mariiaIvl/blob/main/temp_functions_py.ipynb\" target=\"_parent\"><img src=\"https://colab.research.google.com/assets/colab-badge.svg\" alt=\"Open In Colab\"/></a>"
      ]
    },
    {
      "cell_type": "code",
      "execution_count": 2,
      "metadata": {
        "colab": {
          "base_uri": "https://localhost:8080/"
        },
        "id": "7ayLR9e1YmT8",
        "outputId": "a7730899-e380-4a3f-b27e-baa8448e6639"
      },
      "outputs": [
        {
          "output_type": "stream",
          "name": "stdout",
          "text": [
            "71°F в Цельсиях: 21.666666666666668°C\n",
            "A temperature of 16.5°C is classified as \"3\"\n",
            "A temperature of 2°C is classified as \"2\"\n"
          ]
        }
      ],
      "source": [
        "def far_to_celsius(temp_fahrenheit):\n",
        " '''\n",
        " Эта функция преобразует температуру из градуса Фаренгейта в градус Цельсия.\n",
        " :параметр temp_fahrenheit: Температура в градусах Фаренгейта\n",
        " :return: Преобразованная температура в градусах Цельсия\n",
        "\n",
        " '''\n",
        "# вводим формулу для перевода градусов по Фаренгейту в Цельсия\n",
        " temp_celsius = (temp_fahrenheit - 32)/ 1.8\n",
        " return temp_celsius\n",
        "# Пример использования функции:\n",
        "# Температура 71°F в Цельсиях\n",
        "temperature_fahrenheit = 71\n",
        "converted_temperature_celsius = far_to_celsius(temperature_fahrenheit)\n",
        "print(f'{temperature_fahrenheit}°F в Цельсиях: {converted_temperature_celsius}°C')\n",
        "\n",
        "def temp_classifier(temp_celsius):\n",
        "    \"\"\"\n",
        "    Эта функция классифицирует температуры по различным категориям на основе определенных критериев.\n",
        "\n",
        "    :параметр temp_celsius: Температура в градусах Цельсия\n",
        "    :return: классификация температуры (0, 1, 2 или 3)\n",
        "    \"\"\"\n",
        "    if temp_celsius < -2:\n",
        "        return 0\n",
        "    elif -2 <= temp_celsius < 2:\n",
        "        return 1\n",
        "    elif 2 <= temp_celsius < 15:\n",
        "        return 2\n",
        "    else:\n",
        "        return 3\n",
        "\n",
        "# Пример использования функции для различных значений температур\n",
        "temperature_data = [16.5, 2]\n",
        "for temp in temperature_data:\n",
        "    classification = temp_classifier(temp)\n",
        "    print(f'A temperature of {temp}°C is classified as \"{classification}\"')\n"
      ]
    }
  ]
}