{
 "cells": [
  {
   "cell_type": "markdown",
   "metadata": {
    "deletable": false,
    "editable": false,
    "nbgrader": {
     "cell_type": "markdown",
     "checksum": "fb038891b02b74e05090a1708dcb85d7",
     "grade": false,
     "grade_id": "cell-8f87d3f057af49f1",
     "locked": true,
     "schema_version": 3,
     "solution": false,
     "task": false
    }
   },
   "source": [
    "## Задача 4 (*опционально*) - Парсинг дневной температуры\n",
    "\n",
    "**Это необязательная задача для тех, кто хочет больше практики.**\n",
    "\n",
    "Эта задача более сложна, поскольку мы предоставляем только минимальные инструкции по выполнению заданных задач. Вам нужно будет искать документацию Pandas (и другие ресурсы), чтобы получить помощь. Мы рассмотрим агрегацию данных более подробно во время урока 6, так что это хорошая возможность подготовиться к следующей неделе!\n",
    "\n",
    "В этой задаче цель состоит в том, чтобы агрегировать почасовые данные о температуре для погодных станций Хельсинки и Рованиими по дням. В настоящее время в данных существует (максимум) 3 измерения в час, как это видно по столбцу `YR--MODAHRMN` (Год-час-минута по Гринвичу (GMT):\n",
    "\n",
    "```\n",
    "    USAF  YR--MODAHRMN  TEMP  MAX  MIN  Celsius\n",
    "0  28450  201705010000  31.0  NaN  NaN       -1\n",
    "1  28450  201705010020  30.0  NaN  NaN       -1\n",
    "2  28450  201705010050  30.0  NaN  NaN       -1\n",
    "3  28450  201705010100  31.0  NaN  NaN       -1\n",
    "4  28450  201705010120  30.0  NaN  NaN       -1\n",
    "```\n",
    "\n",
    "Выход должен содержать среднюю, максимальную и минимальную температуры в Цельсиях для каждого дня (например, одно среднее значение температуры на 1 мая и так далее).\n",
    "\n",
    "### Что необходимо сделать\n",
    "\n",
    "- Ваша задача состоит в том, чтобы суммировать информацию для каждого дня, агрегируя (группируя) объекты DataFrame.\n",
    "- Результат должен быть новым DataFrame, где вы рассчитали среднюю, максимальную и минимальную температуры в Цельсиях отдельно для каждого дня на основе почасовых значений.\n",
    "- Повторите задачу для двух наборов данных, которые вы создали в задаче 2 (температуры в мае - августе для Рованиими и Кумпула).\n",
    "\n",
    "Не забудьте:\n",
    "\n",
    "- Добавить комментарии в свой код\n",
    "- Опубликовать свое решение на GitHub/Gitflic\n",
    "\n",
    "### Подсказка\n",
    "\n",
    "Вы можете найти помощь в [официальной документации Pandas](https://pandas.pydata.org/pandas-docs/stable/) и Google."
   ]
  },
  {
   "cell_type": "code",
   "execution_count": null,
   "metadata": {
    "deletable": false,
    "nbgrader": {
     "cell_type": "code",
     "checksum": "71f685a62c58703b2de3ecec535adf13",
     "grade": true,
     "grade_id": "problem_4_mg_p1_do_it_all",
     "locked": false,
     "points": 0,
     "schema_version": 3,
     "solution": true,
     "task": false
    }
   },
   "outputs": [],
   "source": [
    "# Замените строку ниже вашим кодом\n",
    "raise NotImplementedError()"
   ]
  }
 ],
 "metadata": {
  "anaconda-cloud": {},
  "kernelspec": {
   "display_name": "Python 3 (ipykernel)",
   "language": "python",
   "name": "python3"
  },
  "language_info": {
   "codemirror_mode": {
    "name": "ipython",
    "version": 3
   },
   "file_extension": ".py",
   "mimetype": "text/x-python",
   "name": "python",
   "nbconvert_exporter": "python",
   "pygments_lexer": "ipython3",
   "version": "3.10.12"
  }
 },
 "nbformat": 4,
 "nbformat_minor": 4
}
