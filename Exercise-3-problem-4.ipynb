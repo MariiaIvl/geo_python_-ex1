{
 "cells": [
  {
   "cell_type": "markdown",
   "metadata": {
    "deletable": false,
    "editable": false,
    "nbgrader": {
     "cell_type": "markdown",
     "checksum": "4c2a88f9e16dc21a750b5ce6520095e4",
     "grade": false,
     "grade_id": "cell-0f5198aff98ef512",
     "locked": true,
     "schema_version": 3,
     "solution": false
    }
   },
   "source": [
    "## Задача 4 - вложенные циклы `for` (*опционально*)\n",
    "\n",
    "**Внимание:** Это более сложная задача.\n",
    "Вы можете попытаться выполнить эту задачу, если вы готовы к небольшому испытанию и уверены в своих навыках программирования.:)\n",
    "\n",
    "В дополнение к одиночным циклам `for`, которые итерируют в некотором диапазоне переменных, возможно делать *вложенные* циклы `for`.\n",
    "\n",
    "Рассмотрим пример ниже:\n",
    "\n",
    "```pythonы\n",
    ">>> for char in 'dog':\n",
    "...     for char2 in 'cat':\n",
    "...         print (char, char2)\n",
    "    d c\n",
    "    d a\n",
    "    d t\n",
    "    o c\n",
    "    o a\n",
    "    o t\n",
    "    g c\n",
    "    g a\n",
    "    g t\n",
    "```\n",
    "\n",
    "Здесь вы можете видеть, что в первом проходе через первый цикл `for`, значение `char` равно `d`.\n",
    "При попадании во внутренний (или вложенный) цикл, переменной `char2` присвоено значение `c`.\n",
    "После этого делается вывод на экран, и, поскольку во внутреннем цикле есть больше букв, значение `char2` будет обновлено при следующем проходе.\n",
    "При проходе вложенного цикла во второй раз `char2` установлен на `a`, в то время как `char` остается со значением `d`.\n",
    "Таким образом, вложенный цикл будет проходить через все буквы в `cat`, когда как `char` обновляется во внешнем цикле.\n",
    "Вероятно, вы уже поняли, что это очень полезная концепция.\n",
    "\n",
    "Для решения этой задачи вы должны выполнить следующее:\n",
    "\n",
    "1. Создать переменную `star` с текстом `\"*\"` и пустую строковую переменную `text`. Напомним, что вы можете создать пустые строковые переменные, присвоив `\"\"` в качестве значения.\n",
    "2. Используйте вложенные циклы `for` и переменные выше, чтобы создать текст по образцу ниже, когда `print (text)` запускается в конце программы.\n",
    "\n",
    "    ```\n",
    "    ******\n",
    "    ******\n",
    "    ******\n",
    "    ```\n",
    "3. Создайте переменную `line` с текстом `\"-\"` и пустую строковую переменную `box`.\n",
    "4. Используйте вложенные циклы `for` и переменные выше, чтобы создать текст по образцу ниже, когда `print (box)` запускается в конце программы. **Замечание**: Вам нужно будет использовать условные выражения для получения желаемого вывода.\n",
    "\n",
    "    ```\n",
    "    ------------------\n",
    "    ------------------\n",
    "    ------******------\n",
    "    ------******------\n",
    "    ------******------\n",
    "    ------------------\n",
    "    ------------------\n",
    "    ```\n"
   ]
  },
  {
   "cell_type": "markdown",
   "metadata": {
    "deletable": false,
    "editable": false,
    "nbgrader": {
     "cell_type": "markdown",
     "checksum": "026e500238563002ae1a96932c15e5d7",
     "grade": false,
     "grade_id": "cell-4e5ab82001ecb87e",
     "locked": true,
     "schema_version": 3,
     "solution": false
    }
   },
   "source": [
    "### Часть 1\n",
    "\n",
    "- Ваш код для звёздочек:"
   ]
  },
  {
   "cell_type": "code",
   "execution_count": null,
   "metadata": {
    "deletable": false,
    "nbgrader": {
     "cell_type": "code",
     "checksum": "8aa5876aa49f226b72a0b533a4b50cb0",
     "grade": false,
     "grade_id": "problem_4_ag_p1_asterix_square",
     "locked": false,
     "schema_version": 3,
     "solution": true
    }
   },
   "outputs": [],
   "source": [
    "# Ваш код здесь\n",
    "raise NotImplementedError()\n",
    "text"
   ]
  },
  {
   "cell_type": "code",
   "execution_count": null,
   "metadata": {
    "deletable": false,
    "editable": false,
    "nbgrader": {
     "cell_type": "code",
     "checksum": "e336cd7c81ce2d4ffce4f5bd267afc81",
     "grade": true,
     "grade_id": "problem_4_ag_p1_asterix_square_test1",
     "locked": true,
     "points": 0,
     "schema_version": 3,
     "solution": false
    }
   },
   "outputs": [],
   "source": [
    "print(text)"
   ]
  },
  {
   "cell_type": "markdown",
   "metadata": {
    "deletable": false,
    "editable": false,
    "nbgrader": {
     "cell_type": "markdown",
     "checksum": "01bfa7fb83c593c2dd05f70138a8b713",
     "grade": false,
     "grade_id": "cell-612d3be673da10cc",
     "locked": true,
     "schema_version": 3,
     "solution": false
    }
   },
   "source": [
    "### Часть 2\n",
    "\n",
    "- Ваш код для окошка:"
   ]
  },
  {
   "cell_type": "code",
   "execution_count": null,
   "metadata": {
    "deletable": false,
    "nbgrader": {
     "cell_type": "code",
     "checksum": "4fb83c08cbf46a1cfea871abadd46239",
     "grade": false,
     "grade_id": "problem_4_ag_p2_flag",
     "locked": false,
     "schema_version": 3,
     "solution": true
    }
   },
   "outputs": [],
   "source": [
    "# Ваш код здесь\n",
    "raise NotImplementedError()"
   ]
  },
  {
   "cell_type": "code",
   "execution_count": null,
   "metadata": {
    "deletable": false,
    "editable": false,
    "nbgrader": {
     "cell_type": "code",
     "checksum": "e006caa1fd814cfbbb976b25bfb94c51",
     "grade": true,
     "grade_id": "problem_4_ag_p2_flag_test",
     "locked": true,
     "points": 0,
     "schema_version": 3,
     "solution": false
    }
   },
   "outputs": [],
   "source": [
    "print(box)"
   ]
  },
  {
   "cell_type": "markdown",
   "metadata": {
    "deletable": false,
    "editable": false,
    "nbgrader": {
     "cell_type": "markdown",
     "checksum": "9478f8ff4e868db51610cd2c6265cce8",
     "grade": false,
     "grade_id": "cell-4aa072eec21ca596",
     "locked": true,
     "schema_version": 3,
     "solution": false
    }
   },
   "source": [
    "### Все сделано!\n",
    "\n",
    "Congrats! If you are here, you have finished all problems for week 3, even the extra one! Bad-ass. &#128526;"
   ]
  }
 ],
 "metadata": {
  "anaconda-cloud": {},
  "kernelspec": {
   "display_name": "Python 3 (ipykernel)",
   "language": "python",
   "name": "python3"
  },
  "language_info": {
   "codemirror_mode": {
    "name": "ipython",
    "version": 3
   },
   "file_extension": ".py",
   "mimetype": "text/x-python",
   "name": "python",
   "nbconvert_exporter": "python",
   "pygments_lexer": "ipython3",
   "version": "3.10.12"
  }
 },
 "nbformat": 4,
 "nbformat_minor": 4
}
